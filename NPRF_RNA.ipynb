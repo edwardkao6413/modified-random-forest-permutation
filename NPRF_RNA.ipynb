{
 "cells": [
  {
   "cell_type": "code",
   "execution_count": 1,
   "id": "3f62d189-790f-45b6-989e-c7f67d0640bc",
   "metadata": {
    "tags": []
   },
   "outputs": [],
   "source": [
    "import pandas as pd\n",
    "import numpy as np\n",
    "pd.set_option('display.max_columns', 50)\n",
    "# pd.set_option('display.max_rows', 50)\n",
    "import tabula\n",
    "from pandasql import sqldf\n",
    "import math\n",
    "from scipy.stats import chi2\n",
    "from scipy import stats\n",
    "from matplotlib import pyplot as plt"
   ]
  },
  {
   "cell_type": "code",
   "execution_count": 2,
   "id": "12ab32d0-d4d1-445e-8319-83560bbbbe25",
   "metadata": {
    "tags": []
   },
   "outputs": [],
   "source": [
    "# DNA_inside_w = pd.read_excel(r\"C:\\Users\\edwar\\Desktop\\農藝\\paper2\\data collection\\integrated_results_DNAinside.xlsx\", sheet_name = 'weighted')\n",
    "RNA_inside_w = pd.read_excel(r\"C:\\Users\\edwar\\Desktop\\農藝\\paper2\\data collection\\integrated_results_RNAinside.xlsx\", sheet_name = 'weighted')"
   ]
  },
  {
   "cell_type": "code",
   "execution_count": null,
   "id": "f1a98d57-883f-437a-a3e3-a8863b7596b3",
   "metadata": {},
   "outputs": [],
   "source": [
    "RNA_data = RNA_inside_w[['gene', 'weight_score']].rename(columns = {'weight_score':'score'})\n",
    "df = RNA_data.copy()\n",
    "gene_data = pd.DataFrame()\n",
    "gene_data['gene'] = RNA_inside_w['gene']\n",
    "gene_data['times'] = 0\n",
    "\n",
    "bootstrap_times = 1000\n",
    "permute_times = 10\n",
    "n =  150 # number of prioritized genes\n",
    "\n",
    "for bootstrap_time in range(bootstrap_times):\n",
    "    # bootstrapping\n",
    "    bootstrap_data = RNA_data.sample(n = len(RNA_data['gene']), replace = True).sort_values(by = ['score'], ascending = False).reset_index().drop(['index'], axis = 1)[:n]\n",
    "    \n",
    "    for permute_time in range(permute_times):\n",
    "        # permutation\n",
    "        np.random.shuffle(df['score'].values)\n",
    "        df_v1 = df[df['gene'].isin(list(bootstrap_data['gene']))].reset_index().drop(['index'], axis = 1)\n",
    "        # records of times of bootstrap score over permuted score\n",
    "        bootstrap_data_v1 = bootstrap_data.merge(df_v1.rename(columns = {'score':'score_permute'}), on = ['gene'], how = 'left')\n",
    "        bootstrap_data_v1['diff'] = bootstrap_data_v1['score'] - bootstrap_data_v1['score_permute']\n",
    "        bootstrap_data_v1['times'] = 0\n",
    "        bootstrap_data_v1.loc[(bootstrap_data_v1['diff'] > 0), 'times'] = 1\n",
    "        # bootstrap_data_v1 = bootstrap_data_v1.drop(['score_permute'], axis = 1)\n",
    "        \n",
    "        # sum up times of bootstrap score over permuted score\n",
    "        add_data = bootstrap_data_v1[bootstrap_data_v1['times'] == 1].reset_index().drop(['index'], axis = 1)[['gene', 'times']]\n",
    "        add_data_v1 = pd.DataFrame()\n",
    "        gene_list = list(add_data['gene'].unique())\n",
    "        for gene in gene_list:\n",
    "            df_gene = add_data[add_data['gene'] == gene].reset_index().drop(['index'], axis = 1)\n",
    "            if len(df_gene['gene']) > 1:\n",
    "                df_gene_v1 = pd.DataFrame()\n",
    "                df_gene_v1['gene'] = df_gene['gene'].unique()\n",
    "                df_gene_v1['times'] = df_gene['times'].sum()\n",
    "                add_data_v1 = pd.concat([add_data_v1, df_gene_v1]).reset_index().drop(['index'], axis = 1)\n",
    "\n",
    "            elif len(df_gene['gene']) == 1:\n",
    "                add_data_v1 = pd.concat([add_data_v1, df_gene]).reset_index().drop(['index'], axis = 1)\n",
    "        \n",
    "        # totally sum up\n",
    "        gene_data = gene_data.merge(add_data_v1.rename(columns = {'times':'times_delta'}), on = ['gene'], how = 'left')\n",
    "        gene_data['times'] = gene_data[['times', 'times_delta']].sum(axis = 1)\n",
    "        gene_data = gene_data.drop(['times_delta'], axis = 1)\n",
    "    \n",
    "    if (bootstrap_time + 1) % 100 == 0:\n",
    "        print(bootstrap_time + 1)"
   ]
  },
  {
   "cell_type": "code",
   "execution_count": null,
   "id": "0d7bc6a0-24c5-4314-a9c4-8103e6734d39",
   "metadata": {},
   "outputs": [],
   "source": []
  },
  {
   "cell_type": "code",
   "execution_count": null,
   "id": "ba11ab9c-58c5-4c1c-ba05-05b809734059",
   "metadata": {},
   "outputs": [],
   "source": []
  },
  {
   "cell_type": "code",
   "execution_count": null,
   "id": "7c61a28f-f436-4f3d-b0f4-e16aeec19617",
   "metadata": {},
   "outputs": [],
   "source": []
  }
 ],
 "metadata": {
  "kernelspec": {
   "display_name": "Python 3 (ipykernel)",
   "language": "python",
   "name": "python3"
  },
  "language_info": {
   "codemirror_mode": {
    "name": "ipython",
    "version": 3
   },
   "file_extension": ".py",
   "mimetype": "text/x-python",
   "name": "python",
   "nbconvert_exporter": "python",
   "pygments_lexer": "ipython3",
   "version": "3.10.9"
  }
 },
 "nbformat": 4,
 "nbformat_minor": 5
}
